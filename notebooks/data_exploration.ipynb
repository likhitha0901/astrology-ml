# 01_data_exploration.ipynb

# --- Notebook Setup ---
import pandas as pd
import matplotlib.pyplot as plt
import seaborn as sns

# Display settings
pd.set_option("display.max_columns", None)

# --- Load Dataset ---
df = pd.read_csv("../data/raw_data.csv")
print("✅ Dataset loaded successfully!")
df.head()
